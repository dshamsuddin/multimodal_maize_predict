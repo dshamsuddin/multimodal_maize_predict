{
 "cells": [
  {
   "cell_type": "markdown",
   "metadata": {},
   "source": [
    "# Multimodal deep learning \n",
    "\n",
    "\n",
    "It employs the spectral and tabular deep learning models as modules, which will be trained together to inform the grain yield prediction."
   ]
  },
  {
   "cell_type": "code",
   "execution_count": null,
   "metadata": {
    "code_folding": []
   },
   "outputs": [],
   "source": [
    "# Import libraries\n",
    "%reload_ext autoreload\n",
    "%autoreload 2\n",
    "%matplotlib inline\n",
    "\n",
    "from fastai.vision.all import *\n",
    "import fastai\n",
    "from fastai.tabular.all import *\n",
    "from fastai.data.load import _FakeLoader, _loaders\n",
    "import torch\n",
    "from ipywidgets import IntProgress\n",
    "from glob import glob\n",
    "\n",
    "import random\n",
    "import matplotlib.pyplot as plt\n",
    "from sklearn.metrics import mean_squared_error, r2_score\n",
    "import pandas as pd\n",
    "import numpy as np\n",
    "import os\n",
    "\n",
    "import fastcore\n",
    "\n",
    "# Custom functions\n",
    "from msi_utils_Multimodal import *\n",
    "from fold_utils_Multimodal import * \n",
    "from multimodal_utils import *\n",
    "from multimodal_model import *"
   ]
  },
  {
   "cell_type": "code",
   "execution_count": null,
   "metadata": {},
   "outputs": [],
   "source": [
    "device = torch.device('hip:0' if torch.cuda.is_available() else 'cpu')\n",
    "device"
   ]
  },
  {
   "cell_type": "code",
   "execution_count": null,
   "metadata": {},
   "outputs": [],
   "source": [
    "print(torch.cuda.is_available())"
   ]
  },
  {
   "cell_type": "code",
   "execution_count": null,
   "metadata": {},
   "outputs": [],
   "source": [
    "print(\"fastai version:\", fastai.__version__)\n",
    "print(\"fastcore version:\", fastcore.__version__)\n",
    "print(\"torch version:\", torch.__version__)"
   ]
  },
  {
   "cell_type": "markdown",
   "metadata": {},
   "source": [
    "## Reference tables"
   ]
  },
  {
   "cell_type": "code",
   "execution_count": null,
   "metadata": {},
   "outputs": [],
   "source": [
    "#Training/Val Set\n",
    "path = Path('/path/train_images')\n",
    "df_train_val = pd.read_csv('/path/Train_Val.csv')\n"
   ]
  },
  {
   "cell_type": "code",
   "execution_count": null,
   "metadata": {},
   "outputs": [],
   "source": [
    "#Holdout set\n",
    "df_test = pd.read_csv('/path/Holdout.csv')\n",
    "path_test = Path('/path/holdout_images')"
   ]
  },
  {
   "cell_type": "code",
   "execution_count": null,
   "metadata": {},
   "outputs": [],
   "source": [
    "# Random splitter function from fastai\n",
    "splitter = RandomSplitter(valid_pct=0.3, seed=42)\n",
    "splits = splitter(range_of(df_train_val))\n",
    "splits"
   ]
  },
  {
   "cell_type": "markdown",
   "metadata": {},
   "source": [
    "# Tab Dataloaders"
   ]
  },
  {
   "cell_type": "code",
   "execution_count": null,
   "metadata": {},
   "outputs": [],
   "source": [
    "procs = [Categorify, Normalize, FillMissing]\n",
    "cont_vars = df_train_val.columns[21:].tolist()\n",
    "additional_cont_vars = ['JulianPlantDatePerYear', 'Year', 'DTA', 'DTS', 'Moist', 'Population', 'Range', 'Row']\n",
    "cont_names =  cont_vars + additional_cont_vars \n",
    "cat_names = ['Pedigree1', 'Pedigree2', 'Stock', 'Test']\n",
    "\n",
    "to = TabularPandas(df_train_val,\n",
    "                   procs,\n",
    "                   cat_names=cat_names,\n",
    "                   cont_names=cont_names,\n",
    "                   y_names='Yield',\n",
    "                   y_block=RegressionBlock(),\n",
    "                   splits=splits)\n",
    "\n",
    "tab_dl = to.dataloaders(bs=64)"
   ]
  },
  {
   "cell_type": "code",
   "execution_count": null,
   "metadata": {
    "scrolled": true
   },
   "outputs": [],
   "source": [
    "tab_dl.show_batch()"
   ]
  },
  {
   "cell_type": "markdown",
   "metadata": {},
   "source": [
    "# Spectral Dataloaders"
   ]
  },
  {
   "cell_type": "code",
   "execution_count": null,
   "metadata": {},
   "outputs": [],
   "source": [
    "dblock = DataBlock(blocks=(ImageBlock, RegressionBlock),\n",
    "            get_items=get_image_files_from_df,\n",
    "            get_y=get_y,\n",
    "            splitter=splitter,\n",
    "            item_tfms=[FlipItem, Resize(360, None)],\n",
    "            batch_tfms=[Normalize])\n"
   ]
  },
  {
   "cell_type": "code",
   "execution_count": null,
   "metadata": {},
   "outputs": [],
   "source": [
    "msi_dls = dblock.dataloaders(path, bs=64)"
   ]
  },
  {
   "cell_type": "code",
   "execution_count": null,
   "metadata": {
    "scrolled": true
   },
   "outputs": [],
   "source": [
    "msi_dls.show_batch()"
   ]
  },
  {
   "cell_type": "markdown",
   "metadata": {},
   "source": [
    "# Mixed Dataloader"
   ]
  },
  {
   "cell_type": "code",
   "execution_count": null,
   "metadata": {},
   "outputs": [],
   "source": [
    "# Check that the tabular dataset is aligned with the spectral dataset\n",
    "mixed_dl = MixedDL(tab_dl[0], msi_dls[0])\n",
    "# These should show the same ids\n",
    "msi_dls[0].get_idxs()[:10]"
   ]
  },
  {
   "cell_type": "code",
   "execution_count": null,
   "metadata": {},
   "outputs": [],
   "source": [
    "tab_dl[0].get_idxs()[:10]"
   ]
  },
  {
   "cell_type": "code",
   "execution_count": null,
   "metadata": {},
   "outputs": [],
   "source": [
    "# Now mix the tabular and spectral datasets to create the multimodal input\n",
    "train_mixed_dl = MixedDL(tab_dl[0], msi_dls[0])\n",
    "valid_mixed_dl = MixedDL(tab_dl[1], msi_dls[1])\n",
    "mixed_dls = DataLoaders(train_mixed_dl, valid_mixed_dl).cuda()"
   ]
  },
  {
   "cell_type": "code",
   "execution_count": null,
   "metadata": {
    "scrolled": true
   },
   "outputs": [],
   "source": [
    "mixed_dls.show_batch()"
   ]
  },
  {
   "cell_type": "markdown",
   "metadata": {
    "heading_collapsed": true
   },
   "source": [
    "# Fusion at feature level - Training modules from scratch"
   ]
  },
  {
   "cell_type": "markdown",
   "metadata": {
    "heading_collapsed": true,
    "hidden": true
   },
   "source": [
    "## Training & Validation"
   ]
  },
  {
   "cell_type": "code",
   "execution_count": null,
   "metadata": {
    "hidden": true
   },
   "outputs": [],
   "source": [
    "# Mixed model variables\n",
    "# Set weights for each loss\n",
    "tab_w, vis_w, tv_w = 0.42, 0.34, 0.24 #Modify depending on Optuna\n",
    "\n",
    "# Initialise Loss\n",
    "gb_loss = GradientBlending(tab_weight=tab_w, visual_weight=vis_w, tab_vis_weight=tv_w, loss_scale=1.0)"
   ]
  },
  {
   "cell_type": "code",
   "execution_count": null,
   "metadata": {
    "hidden": true
   },
   "outputs": [],
   "source": [
    "# METRICS\n",
    "metrics = [t_rmse, v_rmse, tv_rmse, weighted_RMSEp]\n",
    "csvlogger = CSVLogger(f'/path/metrics.csv', append=True)\n",
    "cbs = [csvlogger]    "
   ]
  },
  {
   "cell_type": "code",
   "execution_count": null,
   "metadata": {
    "hidden": true
   },
   "outputs": [],
   "source": [
    "# Modules\n",
    "config = tabular_config(ps=0.5, embed_p=0.5)\n",
    "learn_tab = tabular_learner(tab_dl,\n",
    "                            config=config,\n",
    "                            layers=[200,100],\n",
    "                            metrics=[rmse, R2Score()],\n",
    "                            opt_func=ranger,\n",
    "                            y_range=[0,20],\n",
    "                            wd=1.425482107813348e-06)\n",
    "\n",
    "learn_tab.fit_one_cycle(1, lr_max=0.00018479913871295546)"
   ]
  },
  {
   "cell_type": "code",
   "execution_count": null,
   "metadata": {
    "hidden": true
   },
   "outputs": [],
   "source": [
    "model_msi = models.densenet121(pretrained=True)\n",
    "\n",
    "# Modify the architecture to have 1 output classes\n",
    "num_classes = 1\n",
    "model_msi.classifier = nn.Linear(model_msi.classifier.in_features, num_classes)\n",
    "\n",
    "# Add this line after creating the model architecture\n",
    "learn_rgb = Learner(msi_dls,\n",
    "            model_msi,\n",
    "            opt_func=RAdam,\n",
    "            loss_func=root_mean_squared_error,  \n",
    "            metrics=[rmse, R2Score()])\n",
    "\n",
    "learn_rgb.fit(1, lr=0.0001289, wd=0.000137)"
   ]
  },
  {
   "cell_type": "code",
   "execution_count": null,
   "metadata": {
    "code_folding": [],
    "hidden": true
   },
   "outputs": [],
   "source": [
    "multi_model = TabVis(learn_tab.model, learn_rgb.model)\n",
    "multi_learn = Learner(mixed_dls, multi_model, gb_loss, cbs=cbs, metrics=metrics)"
   ]
  },
  {
   "cell_type": "code",
   "execution_count": null,
   "metadata": {
    "hidden": true
   },
   "outputs": [],
   "source": [
    "# Disable Fastai progress bar\n",
    "with multi_learn.no_bar() and multi_learn.no_logging():\n",
    "    multi_learn.fit_one_cycle(100, lr_max=0.000183557)"
   ]
  },
  {
   "cell_type": "code",
   "execution_count": null,
   "metadata": {
    "hidden": true
   },
   "outputs": [],
   "source": [
    "multi_learn.save('/path/Multimodal_FromScratch') #SAVE MODEL FOR FUTURE EVALUATION.\n"
   ]
  },
  {
   "cell_type": "code",
   "execution_count": null,
   "metadata": {
    "hidden": true
   },
   "outputs": [],
   "source": [
    "pn = msi_dls.valid_ds.items\n",
    "images_id = []"
   ]
  },
  {
   "cell_type": "code",
   "execution_count": null,
   "metadata": {
    "hidden": true
   },
   "outputs": [],
   "source": [
    "for i in range(len(pn)):\n",
    "    path = Path(pn[i])  # Convert the file path to a Path object\n",
    "    name = path.stem\n",
    "    images_id.append(name)"
   ]
  },
  {
   "cell_type": "code",
   "execution_count": null,
   "metadata": {
    "hidden": true
   },
   "outputs": [],
   "source": [
    "preds,targs = multi_learn.get_preds(dl=valid_mixed_dl)\n",
    "pred_mixed_df = pd.DataFrame()\n",
    "tab_pred = preds[0].flatten()\n",
    "vis_pred = preds[1].flatten()\n",
    "mixed_pred = preds[2].flatten()\n",
    "\n",
    "pred_mixed_df['items'] = images_id\n",
    "pred_mixed_df['items'] = pred_mixed_df['items'].str.replace('id_', '')\n",
    "pred_mixed_df['tab_pred'] = tab_pred\n",
    "pred_mixed_df['msi_pred'] = vis_pred\n",
    "pred_mixed_df['mixed_pred'] = mixed_pred\n",
    "pred_mixed_df['target_yield'] = targs\n"
   ]
  },
  {
   "cell_type": "code",
   "execution_count": null,
   "metadata": {
    "hidden": true
   },
   "outputs": [],
   "source": [
    "pred_mixed_df.to_csv('/path/Preds.csv')\n"
   ]
  },
  {
   "cell_type": "markdown",
   "metadata": {
    "heading_collapsed": true,
    "hidden": true
   },
   "source": [
    "## Holdout Evaluation"
   ]
  },
  {
   "cell_type": "code",
   "execution_count": null,
   "metadata": {
    "hidden": true
   },
   "outputs": [],
   "source": [
    "#SKIP IF MULTI_LEARN HAS ALREADY BEEN INITIALISED/LOADED.\n",
    "\n",
    "multi_learn.load('/path/Multimodal_FromScratch')"
   ]
  },
  {
   "cell_type": "code",
   "execution_count": null,
   "metadata": {
    "hidden": true
   },
   "outputs": [],
   "source": [
    "test_msi_dls = dblock.dataloaders(path_test, shuffle=False)\n",
    "learn_rgb.dls.loaders.append(msi_dls.test_dl(test_msi_dls.items, with_labels=True, shuffle=False))"
   ]
  },
  {
   "cell_type": "code",
   "execution_count": null,
   "metadata": {
    "hidden": true
   },
   "outputs": [],
   "source": [
    "len(test_msi_dls.items)"
   ]
  },
  {
   "cell_type": "code",
   "execution_count": null,
   "metadata": {
    "hidden": true
   },
   "outputs": [],
   "source": [
    "# 1st half -\n",
    "# Find the order of samples in the MSI test DL\n",
    "\n",
    "fnames_MSIorder =[]\n",
    "for fname in test_msi_dls.items:\n",
    "    fname = str(fname)\n",
    "    fname = fname.split(sep='/')[-1]\n",
    "    fname = fname.replace('.npy', '')\n",
    "    fname = fname[3:18]\n",
    "    fnames_MSIorder.append(fname)"
   ]
  },
  {
   "cell_type": "code",
   "execution_count": null,
   "metadata": {
    "hidden": true
   },
   "outputs": [],
   "source": [
    "# Reorder the df_test to reflect this order\n",
    "df_test1 = df_test.set_index('Replicate').reindex(fnames_MSIorder).reset_index()"
   ]
  },
  {
   "cell_type": "code",
   "execution_count": null,
   "metadata": {
    "hidden": true
   },
   "outputs": [],
   "source": [
    "learn_tab.dls.loaders.append(tab_dl.test_dl(df_test1, with_labels=True, shuffle=False))"
   ]
  },
  {
   "cell_type": "code",
   "execution_count": null,
   "metadata": {
    "hidden": true
   },
   "outputs": [],
   "source": [
    "test_mixed_dl = MixedDL(learn_tab.dls[2], learn_rgb.dls[2])\n",
    "test_mixed_dl.show_batch()"
   ]
  },
  {
   "cell_type": "code",
   "execution_count": null,
   "metadata": {
    "hidden": true,
    "scrolled": true
   },
   "outputs": [],
   "source": [
    "preds,targs = multi_learn.get_preds(dl=test_mixed_dl)\n",
    "tab_pred = preds[0].flatten()\n",
    "vis_pred = preds[1].flatten()\n",
    "mixed_pred = preds[2].flatten()\n",
    "\n",
    "mixed_results = df_test1.copy()\n",
    "mixed_results['tab_pred'] = tab_pred\n",
    "mixed_results['msi_pred'] = vis_pred\n",
    "mixed_results['mixed_pred'] = mixed_pred\n",
    "\n",
    "len(mixed_results)"
   ]
  },
  {
   "cell_type": "code",
   "execution_count": null,
   "metadata": {
    "hidden": true
   },
   "outputs": [],
   "source": [
    "# 2nd half -\n",
    "# Find the order of samples in the MSI test DL\n",
    "\n",
    "fnames_MSIorder =[]\n",
    "for fname in test_msi_dls[1].items:\n",
    "    fname = str(fname)\n",
    "    fname = fname.split(sep='/')[-1]\n",
    "    fname = fname.replace('.npy', '')\n",
    "    fname = fname[3:18]\n",
    "    fnames_MSIorder.append(fname)\n",
    "    \n",
    "# Reorder the df_test to reflect this order\n",
    "df_test2 = df_test.set_index('Replicate').reindex(fnames_MSIorder).reset_index()\n",
    "learn_tab.dls.loaders.append(tab_dl.test_dl(df_test2, with_labels=True, shuffle=False))\n",
    "learn_rgb.dls.loaders.append(msi_dls.test_dl(test_msi_dls[1].items, with_labels=True, shuffle=False))"
   ]
  },
  {
   "cell_type": "code",
   "execution_count": null,
   "metadata": {
    "hidden": true
   },
   "outputs": [],
   "source": [
    "test_mixed_dl = MixedDL(learn_tab.dls[3], learn_rgb.dls[3])\n",
    "test_mixed_dl.show_batch()"
   ]
  },
  {
   "cell_type": "code",
   "execution_count": null,
   "metadata": {
    "hidden": true
   },
   "outputs": [],
   "source": [
    "preds,targs = multi_learn.get_preds(dl=test_mixed_dl)\n",
    "tab_pred = preds[0].flatten()\n",
    "vis_pred = preds[1].flatten()\n",
    "mixed_pred = preds[2].flatten()\n",
    "\n",
    "mixed_results2 = df_test2.copy()\n",
    "mixed_results2['tab_pred'] = tab_pred\n",
    "mixed_results2['msi_pred'] = vis_pred\n",
    "mixed_results2['mixed_pred'] = mixed_pred\n",
    "\n",
    "len(mixed_results2)"
   ]
  },
  {
   "cell_type": "code",
   "execution_count": null,
   "metadata": {
    "hidden": true
   },
   "outputs": [],
   "source": [
    "ff_GB_results = mixed_results\n",
    "ff_GB_results = mixed_results.append(mixed_results2)\n",
    "ff_GB_results"
   ]
  },
  {
   "cell_type": "code",
   "execution_count": null,
   "metadata": {
    "hidden": true
   },
   "outputs": [],
   "source": [
    "ff_GB_results.to_csv('/path/preds.csv')"
   ]
  },
  {
   "cell_type": "markdown",
   "metadata": {},
   "source": [
    "# Fusion at feature level - Pretrained modules "
   ]
  },
  {
   "cell_type": "markdown",
   "metadata": {},
   "source": [
    "## Training and Validation"
   ]
  },
  {
   "cell_type": "code",
   "execution_count": null,
   "metadata": {},
   "outputs": [],
   "source": [
    "# Mixed model variables\n",
    "# Set weights for each loss\n",
    "tab_w, vis_w, tv_w = 0.42, 0.34, 0.24 #Modify depending on Optuna\n",
    "\n",
    "# Initialise Loss\n",
    "gb_loss = GradientBlending(tab_weight=tab_w, visual_weight=vis_w, tab_vis_weight=tv_w, loss_scale=1.0)\n",
    "\n",
    "# METRICS\n",
    "metrics = [t_rmse, v_rmse, tv_rmse, weighted_RMSEp]\n",
    "csvlogger = CSVLogger(f'/model/Metrics.csv', append=True)\n",
    "cbs = [csvlogger]    \n",
    "\n",
    "# Modules\n",
    "config = tabular_config(ps=0.5, embed_p=0.5)\n",
    "learn_tab = tabular_learner(tab_dl,\n",
    "                            config=config,\n",
    "                            layers=[200,100],\n",
    "                            metrics=[rmse, R2Score()],\n",
    "                            opt_func=ranger,\n",
    "                            y_range=[0,20],\n",
    "                            wd=1.425482107813348e-06)\n",
    "\n",
    "learn_tab.load('/path/Tabular_Model')\n",
    "\n",
    "learn_tab.fit_one_cycle(1, lr_max=0.00018479913871295546)\n",
    "\n",
    "model_msi = models.densenet121(pretrained=True)\n",
    "\n",
    "# Modify the architecture to have 1 output classes\n",
    "num_classes = 1\n",
    "model_msi.classifier = nn.Linear(model_msi.classifier.in_features, num_classes)\n",
    "\n",
    "# Add this line after creating the model architecture\n",
    "learn_rgb = Learner(msi_dls,\n",
    "            model_msi,\n",
    "            opt_func=RAdam,\n",
    "            loss_func=root_mean_squared_error,  \n",
    "            metrics=[rmse, R2Score()])\n",
    "\n",
    "learn_rgb.load('/path/Image_Model')\n",
    "\n",
    "learn_rgb.fit(1, lr=0.0001289, wd=0.000137)\n",
    "\n",
    "multi_model = TabVis(learn_tab.model, learn_rgb.model)\n",
    "multi_learn = Learner(mixed_dls, multi_model, gb_loss, cbs=cbs, metrics=metrics)\n",
    "    \n",
    "    \n",
    "# Disable Fastai progress bar\n",
    "with multi_learn.no_bar() and multi_learn.no_logging():\n",
    "     multi_learn.fit_one_cycle(100, lr_max=0.000183557)\n",
    "    "
   ]
  },
  {
   "cell_type": "code",
   "execution_count": null,
   "metadata": {},
   "outputs": [],
   "source": [
    "multi_learn.save('/path/Multimodal_Pretrained') #SAVE MODEL FOR FUTURE EVALUATION."
   ]
  },
  {
   "cell_type": "code",
   "execution_count": null,
   "metadata": {},
   "outputs": [],
   "source": [
    "pn = msi_dls.valid_ds.items\n",
    "images_id = []\n",
    "\n",
    "for i in range(len(pn)):\n",
    "    path = Path(pn[i])  # Convert the file path to a Path object\n",
    "    name = path.stem\n",
    "    images_id.append(name)\n",
    "    \n",
    "preds,targs = multi_learn.get_preds(dl=valid_mixed_dl)\n",
    "pred_mixed_df = pd.DataFrame()\n",
    "tab_pred = preds[0].flatten()\n",
    "vis_pred = preds[1].flatten()\n",
    "mixed_pred = preds[2].flatten()\n",
    "\n",
    "pred_mixed_df['items'] = images_id\n",
    "pred_mixed_df['items'] = pred_mixed_df['items'].str.replace('id_', '')\n",
    "pred_mixed_df['tab_pred'] = tab_pred\n",
    "pred_mixed_df['msi_pred'] = vis_pred\n",
    "pred_mixed_df['mixed_pred'] = mixed_pred\n",
    "pred_mixed_df['target_yield'] = targs"
   ]
  },
  {
   "cell_type": "code",
   "execution_count": null,
   "metadata": {},
   "outputs": [],
   "source": [
    "pred_mixed_df.to_csv('/path/Preds.csv')"
   ]
  },
  {
   "cell_type": "markdown",
   "metadata": {},
   "source": [
    "## Holdout Evaluation"
   ]
  },
  {
   "cell_type": "code",
   "execution_count": null,
   "metadata": {},
   "outputs": [],
   "source": [
    "#SKIP IF MULTI_LEARN HAS ALREADY BEEN INITIALISED/LOADED.\n",
    "\n",
    "multi_learn.load('/path/Multimodal_Pretrained')"
   ]
  },
  {
   "cell_type": "code",
   "execution_count": null,
   "metadata": {},
   "outputs": [],
   "source": [
    "test_msi_dls = dblock.dataloaders(path_test, shuffle=False)\n",
    "learn_rgb.dls.loaders.append(msi_dls.test_dl(test_msi_dls.items, with_labels=True, shuffle=False))"
   ]
  },
  {
   "cell_type": "code",
   "execution_count": null,
   "metadata": {},
   "outputs": [],
   "source": [
    "# 1st half -\n",
    "# Find the order of samples in the MSI test DL\n",
    "\n",
    "fnames_MSIorder =[]\n",
    "for fname in test_msi_dls.items:\n",
    "    fname = str(fname)\n",
    "    fname = fname.split(sep='/')[-1]\n",
    "    fname = fname.replace('.npy', '')\n",
    "    fname = fname[3:18]\n",
    "    fnames_MSIorder.append(fname)"
   ]
  },
  {
   "cell_type": "code",
   "execution_count": null,
   "metadata": {},
   "outputs": [],
   "source": [
    "# Reorder the df_test to reflect this order\n",
    "df_test1 = df_test.set_index('Replicate').reindex(fnames_MSIorder).reset_index()"
   ]
  },
  {
   "cell_type": "code",
   "execution_count": null,
   "metadata": {},
   "outputs": [],
   "source": [
    "learn_tab.dls.loaders.append(tab_dl.test_dl(df_test1, with_labels=True, shuffle=False))"
   ]
  },
  {
   "cell_type": "code",
   "execution_count": null,
   "metadata": {},
   "outputs": [],
   "source": [
    "test_mixed_dl = MixedDL(learn_tab.dls[2], learn_rgb.dls[2])\n",
    "test_mixed_dl.show_batch()"
   ]
  },
  {
   "cell_type": "code",
   "execution_count": null,
   "metadata": {
    "scrolled": true
   },
   "outputs": [],
   "source": [
    "preds,targs = multi_learn.get_preds(dl=test_mixed_dl)\n",
    "tab_pred = preds[0].flatten()\n",
    "vis_pred = preds[1].flatten()\n",
    "mixed_pred = preds[2].flatten()\n",
    "\n",
    "mixed_results = df_test1.copy()\n",
    "mixed_results['tab_pred'] = tab_pred\n",
    "mixed_results['msi_pred'] = vis_pred\n",
    "mixed_results['mixed_pred'] = mixed_pred\n",
    "\n",
    "len(mixed_results)"
   ]
  },
  {
   "cell_type": "code",
   "execution_count": null,
   "metadata": {},
   "outputs": [],
   "source": [
    "# 2nd half -\n",
    "# Find the order of samples in the MSI test DL\n",
    "\n",
    "fnames_MSIorder =[]\n",
    "for fname in test_msi_dls[1].items:\n",
    "    fname = str(fname)\n",
    "    fname = fname.split(sep='/')[-1]\n",
    "    fname = fname.replace('.npy', '')\n",
    "    fname = fname[3:18]\n",
    "    fnames_MSIorder.append(fname)\n",
    "    \n",
    "# Reorder the df_test to reflect this order\n",
    "df_test2 = df_test.set_index('Replicate').reindex(fnames_MSIorder).reset_index()\n",
    "learn_tab.dls.loaders.append(tab_dl.test_dl(df_test2, with_labels=True, shuffle=False))\n",
    "learn_rgb.dls.loaders.append(msi_dls.test_dl(test_msi_dls[1].items, with_labels=True, shuffle=False))"
   ]
  },
  {
   "cell_type": "code",
   "execution_count": null,
   "metadata": {},
   "outputs": [],
   "source": [
    "test_mixed_dl = MixedDL(learn_tab.dls[3], learn_rgb.dls[3])\n",
    "test_mixed_dl.show_batch()"
   ]
  },
  {
   "cell_type": "code",
   "execution_count": null,
   "metadata": {},
   "outputs": [],
   "source": [
    "preds,targs = multi_learn.get_preds(dl=test_mixed_dl)\n",
    "tab_pred = preds[0].flatten()\n",
    "vis_pred = preds[1].flatten()\n",
    "mixed_pred = preds[2].flatten()\n",
    "\n",
    "mixed_results2 = df_test2.copy()\n",
    "mixed_results2['tab_pred'] = tab_pred\n",
    "mixed_results2['msi_pred'] = vis_pred\n",
    "mixed_results2['mixed_pred'] = mixed_pred\n",
    "\n",
    "len(mixed_results2)"
   ]
  },
  {
   "cell_type": "code",
   "execution_count": null,
   "metadata": {},
   "outputs": [],
   "source": [
    "ff_GB_results = mixed_results\n",
    "ff_GB_results = mixed_results.append(mixed_results2)\n",
    "ff_GB_results"
   ]
  },
  {
   "cell_type": "code",
   "execution_count": null,
   "metadata": {},
   "outputs": [],
   "source": [
    "ff_GB_results.to_csv('/path/Preds.csv')"
   ]
  },
  {
   "cell_type": "code",
   "execution_count": null,
   "metadata": {},
   "outputs": [],
   "source": []
  }
 ],
 "metadata": {
  "kernelspec": {
   "display_name": "Python 3 (ipykernel)",
   "language": "python",
   "name": "python3"
  },
  "language_info": {
   "codemirror_mode": {
    "name": "ipython",
    "version": 3
   },
   "file_extension": ".py",
   "mimetype": "text/x-python",
   "name": "python",
   "nbconvert_exporter": "python",
   "pygments_lexer": "ipython3",
   "version": "3.8.16"
  },
  "toc": {
   "base_numbering": 1,
   "nav_menu": {},
   "number_sections": true,
   "sideBar": true,
   "skip_h1_title": false,
   "title_cell": "Table of Contents",
   "title_sidebar": "Contents",
   "toc_cell": false,
   "toc_position": {},
   "toc_section_display": true,
   "toc_window_display": false
  }
 },
 "nbformat": 4,
 "nbformat_minor": 4
}
