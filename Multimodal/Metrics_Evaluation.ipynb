{
 "cells": [
  {
   "cell_type": "markdown",
   "id": "66f2f099",
   "metadata": {
    "heading_collapsed": true
   },
   "source": [
    "# Import Libraries"
   ]
  },
  {
   "cell_type": "code",
   "execution_count": null,
   "id": "b0d4460f",
   "metadata": {},
   "outputs": [],
   "source": [
    "from fastai.vision.all import *\n",
    "import fastai\n",
    "from fastai.tabular.all import *\n",
    "from fastai.data.load import _FakeLoader, _loaders\n",
    "import torch\n",
    "import torch.nn.functional as F\n",
    "from ipywidgets import IntProgress\n",
    "from glob import glob\n",
    "\n",
    "import random\n",
    "import matplotlib.pyplot as plt\n",
    "from sklearn.metrics import mean_squared_error, r2_score\n",
    "import pandas as pd\n",
    "import numpy as np\n",
    "import os\n",
    "\n",
    "import fastcore"
   ]
  },
  {
   "cell_type": "code",
   "execution_count": null,
   "id": "ae8adb7e",
   "metadata": {},
   "outputs": [],
   "source": [
    "# Custom functions\n",
    "from msi_utils_Multimodal import *\n",
    "from fold_utils_Multimodal import * \n",
    "from multimodal_utils import *\n",
    "from multimodal_model import *\n"
   ]
  },
  {
   "cell_type": "markdown",
   "id": "29b92651-d46d-45cc-bfa1-2a564d18652f",
   "metadata": {
    "heading_collapsed": true
   },
   "source": [
    "# Import Dataset and Processing"
   ]
  },
  {
   "cell_type": "code",
   "execution_count": null,
   "id": "f3e52438",
   "metadata": {},
   "outputs": [],
   "source": [
    "##K-Fold Validation Dataset\n",
    "ff_GB_results_val = pd.read_csv('/path/kfold_Predictions.csv')\n"
   ]
  },
  {
   "cell_type": "code",
   "execution_count": null,
   "id": "19d3b7b0",
   "metadata": {},
   "outputs": [],
   "source": [
    "#Code below to split ff_GB_results_val df based on the different folds.\n",
    "\n",
    "# Assuming your dataframe is named ff_GB_results_val and the first column is named 'Unnamed: 0'\n",
    "\n",
    "# Find the indices where the value changes from 0 to a non-zero value\n",
    "indices = ff_GB_results_val.index[(ff_GB_results_val['Unnamed: 0'] == 0) & (ff_GB_results_val['Unnamed: 0'].shift(-1) != 0)].tolist()\n",
    "\n",
    "# Add the last index to the list to ensure all rows are captured\n",
    "indices.append(ff_GB_results_val.index[-1] + 1)  # Add 1 to include the last row\n",
    "\n",
    "# Create a list to store dataframes\n",
    "dfs = []\n",
    "\n",
    "# Iterate over indices and split the dataframe\n",
    "for i in range(len(indices) - 1):\n",
    "    start_idx = indices[i]\n",
    "    end_idx = indices[i + 1]\n",
    "    temp_df = ff_GB_results_val.iloc[start_idx:end_idx]\n",
    "    dfs.append(temp_df)\n",
    "\n",
    "# Now, dfs list contains dataframes separated by the condition (value changes from 0 to a non-zero value)\n"
   ]
  },
  {
   "cell_type": "code",
   "execution_count": null,
   "id": "ee5a7a3d",
   "metadata": {},
   "outputs": [],
   "source": [
    "#Hold out set File Locations##\n",
    "ff_GB_results = pd.read_csv('/path/holdout_predictions.csv')\n"
   ]
  },
  {
   "cell_type": "code",
   "execution_count": null,
   "id": "e610ccd0",
   "metadata": {},
   "outputs": [],
   "source": [
    "#Dataset containing all yields in training/val/holdout.\n",
    "All_Dataset = pd.read_csv('/path/Train_Val_Holdout.csv')\n"
   ]
  },
  {
   "cell_type": "code",
   "execution_count": null,
   "id": "f5cda5fa",
   "metadata": {},
   "outputs": [],
   "source": [
    "df_ymin, df_ymax = min(All_Dataset['Yield']), max(All_Dataset['Yield'])\n",
    "\n",
    "print(\"Min target_yield:\", df_ymin)\n",
    "print(\"Max target_yield:\", df_ymax)\n"
   ]
  },
  {
   "cell_type": "markdown",
   "id": "dae5b204-53ce-4a25-b0c3-605e733e39ed",
   "metadata": {
    "heading_collapsed": true
   },
   "source": [
    "# Individal Module Evaluation"
   ]
  },
  {
   "cell_type": "markdown",
   "id": "2ccc8cc2-dbc9-4016-8950-707be59fb8b5",
   "metadata": {},
   "source": [
    "Mixed Predictions"
   ]
  },
  {
   "cell_type": "code",
   "execution_count": null,
   "id": "0137702d",
   "metadata": {},
   "outputs": [],
   "source": [
    "import numpy as np\n",
    "from sklearn.metrics import mean_squared_error, r2_score\n",
    "\n",
    "# Calculate RMSE_mixed\n",
    "rmse = np.sqrt(mean_squared_error(ff_GB_results['Yield'], ff_GB_results['mixed_pred']))\n",
    "\n",
    "# Calculate Percentage RMSE_mixed\n",
    "percentage_rmse = ((rmse / (df_ymax - df_ymin))*100)\n",
    "\n",
    "# Calculate R-squared_mixed\n",
    "r_squared = r2_score(ff_GB_results['Yield'], ff_GB_results['mixed_pred'])\n",
    "\n",
    "print(f\"RMSE_mixed: {rmse}\")\n",
    "print(f\"Percentage RMSE_mixed: {percentage_rmse}%\")\n",
    "print(f\"R-squared_mixed: {r_squared}\")"
   ]
  },
  {
   "cell_type": "markdown",
   "id": "0e5e3d88-5e6a-47b1-a2a9-af669184857b",
   "metadata": {},
   "source": [
    "Image Predictions"
   ]
  },
  {
   "cell_type": "code",
   "execution_count": null,
   "id": "b687b6d6",
   "metadata": {},
   "outputs": [],
   "source": [
    "import numpy as np\n",
    "from sklearn.metrics import mean_squared_error, r2_score\n",
    "\n",
    "# Calculate RMSE_mixed\n",
    "rmse = np.sqrt(mean_squared_error(ff_GB_results['Yield'], ff_GB_results['msi_pred']))\n",
    "\n",
    "# Calculate Percentage RMSE_mixed\n",
    "percentage_rmse = ((rmse / (df_ymax - df_ymin))*100)\n",
    "\n",
    "# Calculate R-squared_mixed\n",
    "r_squared = r2_score(ff_GB_results['Yield'], ff_GB_results['msi_pred'])\n",
    "\n",
    "print(f\"RMSE_Image: {rmse}\")\n",
    "print(f\"Percentage RMSE_Image: {percentage_rmse}%\")\n",
    "print(f\"R-squared_Image: {r_squared}\")"
   ]
  },
  {
   "cell_type": "code",
   "execution_count": null,
   "id": "56991d7f-39d1-46d3-8574-14ca17a06e3c",
   "metadata": {},
   "outputs": [],
   "source": [
    "Tabular Predictions"
   ]
  },
  {
   "cell_type": "code",
   "execution_count": null,
   "id": "a70cac7e",
   "metadata": {},
   "outputs": [],
   "source": [
    "import numpy as np\n",
    "from sklearn.metrics import mean_squared_error, r2_score\n",
    "\n",
    "# Calculate RMSE_mixed\n",
    "rmse = np.sqrt(mean_squared_error(ff_GB_results['Yield'], ff_GB_results['tab_pred']))\n",
    "\n",
    "# Calculate Percentage RMSE_mixed\n",
    "percentage_rmse = ((rmse / (df_ymax - df_ymin))*100)\n",
    "\n",
    "# Calculate R-squared_mixed\n",
    "r_squared = r2_score(ff_GB_results['Yield'], ff_GB_results['tab_pred'])\n",
    "\n",
    "print(f\"RMSE_Tabular: {rmse}\")\n",
    "print(f\"Percentage RMSE_Tabular: {percentage_rmse}%\")\n",
    "print(f\"R-squared_Tabular: {r_squared}\")"
   ]
  },
  {
   "cell_type": "markdown",
   "id": "31eb171f-558a-426b-a502-705c699266cc",
   "metadata": {},
   "source": [
    "Weighted Predictions"
   ]
  },
  {
   "cell_type": "code",
   "execution_count": null,
   "id": "1a9fc221",
   "metadata": {
    "hidden": true
   },
   "outputs": [],
   "source": [
    "import pandas as pd\n",
    "\n",
    "# Assuming you have the DataFrame ff_GB_results with columns mixed_pred, msi_pred, and tab_pred\n",
    "# and weights Weight_mixed, Weight_msi, and Weight_tab defined\n",
    "\n",
    "# Define the weights\n",
    "Weight_mixed = 0.24\n",
    "Weight_msi = 0.34\n",
    "Weight_tab = 0.42\n",
    "\n",
    "# Scale the predictions\n",
    "ff_GB_results['Scaled_mixed_pred'] = ff_GB_results['mixed_pred'] * Weight_mixed\n",
    "ff_GB_results['Scaled_msi_pred'] = ff_GB_results['msi_pred'] * Weight_msi\n",
    "ff_GB_results['Scaled_tab_pred'] = ff_GB_results['tab_pred'] * Weight_tab\n",
    "\n",
    "# Combine the scaled predictions\n",
    "ff_GB_results['Final_Scaled_Predictions'] = (\n",
    "    ff_GB_results['Scaled_mixed_pred'] +\n",
    "    ff_GB_results['Scaled_msi_pred'] +\n",
    "    ff_GB_results['Scaled_tab_pred']\n",
    ")\n",
    "\n",
    "# Display the DataFrame with scaled predictions\n",
    "print(ff_GB_results)\n"
   ]
  },
  {
   "cell_type": "code",
   "execution_count": null,
   "id": "58b902a2",
   "metadata": {
    "hidden": true
   },
   "outputs": [],
   "source": [
    "import numpy as np\n",
    "from sklearn.metrics import mean_squared_error, r2_score\n",
    "\n",
    "# Calculate RMSE_mixed\n",
    "rmse = np.sqrt(mean_squared_error(ff_GB_results['Yield'], ff_GB_results['Final_Scaled_Predictions']))\n",
    "\n",
    "# Calculate Percentage RMSE_mixed\n",
    "percentage_rmse = ((rmse / (df_ymax - df_ymin))*100)\n",
    "\n",
    "# Calculate R-squared_mixed\n",
    "r_squared = r2_score(ff_GB_results['Yield'], ff_GB_results['Final_Scaled_Predictions'])\n",
    "\n",
    "print(f\"RMSE_Weighted: {rmse}\")\n",
    "print(f\"Percentage RMSE_Weighted: {percentage_rmse}%\")\n",
    "print(f\"R-squared_Weighted: {r_squared}\")"
   ]
  },
  {
   "cell_type": "markdown",
   "id": "2f164c5c",
   "metadata": {
    "heading_collapsed": true
   },
   "source": [
    "# Multimodal K-Fold Evaluation"
   ]
  },
  {
   "cell_type": "code",
   "execution_count": null,
   "id": "5c2d4adb",
   "metadata": {
    "hidden": true
   },
   "outputs": [],
   "source": [
    "import pandas as pd\n",
    "\n",
    "# Define the weights\n",
    "Weight_mixed = 0.24\n",
    "Weight_msi = 0.34\n",
    "Weight_tab = 0.42\n",
    "\n",
    "# Define a list to store the modified dataframes\n",
    "scaled_dfs = []\n",
    "\n",
    "# Loop through each dataframe\n",
    "for df in dfs:\n",
    "    # Create a copy of the dataframe to avoid SettingWithCopyWarning\n",
    "    df_copy = df.copy()\n",
    "\n",
    "    # Scale the predictions\n",
    "    df_copy['Scaled_mixed_pred'] = df_copy['mixed_pred'] * Weight_mixed\n",
    "    df_copy['Scaled_msi_pred'] = df_copy['msi_pred'] * Weight_msi\n",
    "    df_copy['Scaled_tab_pred'] = df_copy['tab_pred'] * Weight_tab\n",
    "\n",
    "    # Combine the scaled predictions\n",
    "    df_copy['Final_Scaled_Predictions'] = (\n",
    "        df_copy['Scaled_mixed_pred'] +\n",
    "        df_copy['Scaled_msi_pred'] +\n",
    "        df_copy['Scaled_tab_pred']\n",
    "    )\n",
    "    \n",
    "    # Append the modified dataframe to the list\n",
    "    scaled_dfs.append(df_copy)\n",
    "\n",
    "    # Display the modified DataFrame\n",
    "    print(df_copy)\n",
    "\n",
    "# Now, scaled_dfs contains the modified dataframes\n"
   ]
  },
  {
   "cell_type": "markdown",
   "id": "986b78a6-4b1a-4ac0-9327-fd0fc0684a05",
   "metadata": {},
   "source": [
    "Mixed Predictions"
   ]
  },
  {
   "cell_type": "code",
   "execution_count": null,
   "id": "cb534f73",
   "metadata": {
    "hidden": true
   },
   "outputs": [],
   "source": [
    "import numpy as np\n",
    "from sklearn.metrics import mean_squared_error, r2_score\n",
    "\n",
    "# Define empty lists to store metrics for each dataframe\n",
    "rmse_list = []\n",
    "percentage_rmse_list = []\n",
    "r_squared_list = []\n",
    "\n",
    "# Loop through each dataframe\n",
    "for df in dfs:\n",
    "    # Calculate RMSE\n",
    "    rmse = np.sqrt(mean_squared_error(df['target_yield'], df['mixed_pred']))\n",
    "    # Calculate Percentage RMSE\n",
    "    percentage_rmse = ((rmse / (df_ymax - df_ymin)) * 100)\n",
    "    # Calculate R-squared\n",
    "    r_squared = r2_score(df['target_yield'], df['mixed_pred'])\n",
    "    # Append metrics to lists\n",
    "    rmse_list.append(rmse)\n",
    "    percentage_rmse_list.append(percentage_rmse)\n",
    "    r_squared_list.append(r_squared)\n",
    "\n",
    "# Calculate average and standard deviation of metrics\n",
    "avg_rmse = np.mean(rmse_list)\n",
    "std_rmse = np.std(rmse_list)\n",
    "avg_percentage_rmse = np.mean(percentage_rmse_list)\n",
    "std_percentage_rmse = np.std(percentage_rmse_list)\n",
    "avg_r_squared = np.mean(r_squared_list)\n",
    "std_r_squared = np.std(r_squared_list)\n",
    "\n",
    "# Print results\n",
    "print(f\"Average RMSE_mixed: {avg_rmse}, Standard Deviation RMSE_mixed: {std_rmse}\")\n",
    "print(f\"Average Percentage RMSE_mixed: {avg_percentage_rmse}%, Standard Deviation Percentage RMSE_mixed: {std_percentage_rmse}%\")\n",
    "print(f\"Average R-squared_mixed: {avg_r_squared}, Standard Deviation R-squared_mixed: {std_r_squared}\")\n"
   ]
  },
  {
   "cell_type": "markdown",
   "id": "8f3c65c6-f9fe-4ac2-9e89-b9ff5117dd47",
   "metadata": {},
   "source": [
    "Image Predictions"
   ]
  },
  {
   "cell_type": "code",
   "execution_count": null,
   "id": "dd0f4232",
   "metadata": {
    "hidden": true
   },
   "outputs": [],
   "source": [
    "import numpy as np\n",
    "from sklearn.metrics import mean_squared_error, r2_score\n",
    "\n",
    "# Define empty lists to store metrics for each dataframe\n",
    "rmse_list = []\n",
    "percentage_rmse_list = []\n",
    "r_squared_list = []\n",
    "\n",
    "# Loop through each dataframe\n",
    "for df in dfs:\n",
    "    # Calculate RMSE\n",
    "    rmse = np.sqrt(mean_squared_error(df['target_yield'], df['msi_pred']))\n",
    "    # Calculate Percentage RMSE\n",
    "    percentage_rmse = ((rmse / (df_ymax - df_ymin)) * 100)\n",
    "    # Calculate R-squared\n",
    "    r_squared = r2_score(df['target_yield'], df['msi_pred'])\n",
    "    # Append metrics to lists\n",
    "    rmse_list.append(rmse)\n",
    "    percentage_rmse_list.append(percentage_rmse)\n",
    "    r_squared_list.append(r_squared)\n",
    "\n",
    "# Calculate average and standard deviation of metrics\n",
    "avg_rmse = np.mean(rmse_list)\n",
    "std_rmse = np.std(rmse_list)\n",
    "avg_percentage_rmse = np.mean(percentage_rmse_list)\n",
    "std_percentage_rmse = np.std(percentage_rmse_list)\n",
    "avg_r_squared = np.mean(r_squared_list)\n",
    "std_r_squared = np.std(r_squared_list)\n",
    "\n",
    "# Print results\n",
    "print(f\"Average RMSE_Image: {avg_rmse}, Standard Deviation RMSE_mixed: {std_rmse}\")\n",
    "print(f\"Average Percentage RMSE_Image: {avg_percentage_rmse}%, Standard Deviation Percentage RMSE_mixed: {std_percentage_rmse}%\")\n",
    "print(f\"Average R-squared_Image: {avg_r_squared}, Standard Deviation R-squared_mixed: {std_r_squared}\")\n"
   ]
  },
  {
   "cell_type": "markdown",
   "id": "8ee6b511-6eef-46ca-85d1-6b410dfd7910",
   "metadata": {},
   "source": [
    "Tabular Predictions"
   ]
  },
  {
   "cell_type": "code",
   "execution_count": null,
   "id": "980b0899",
   "metadata": {
    "hidden": true
   },
   "outputs": [],
   "source": [
    "import numpy as np\n",
    "from sklearn.metrics import mean_squared_error, r2_score\n",
    "\n",
    "# Define empty lists to store metrics for each dataframe\n",
    "rmse_list = []\n",
    "percentage_rmse_list = []\n",
    "r_squared_list = []\n",
    "\n",
    "# Loop through each dataframe\n",
    "for df in dfs:\n",
    "    # Calculate RMSE\n",
    "    rmse = np.sqrt(mean_squared_error(df['target_yield'], df['tab_pred']))\n",
    "    # Calculate Percentage RMSE\n",
    "    percentage_rmse = ((rmse / (df_ymax - df_ymin)) * 100)\n",
    "    # Calculate R-squared\n",
    "    r_squared = r2_score(df['target_yield'], df['tab_pred'])\n",
    "    # Append metrics to lists\n",
    "    rmse_list.append(rmse)\n",
    "    percentage_rmse_list.append(percentage_rmse)\n",
    "    r_squared_list.append(r_squared)\n",
    "\n",
    "# Calculate average and standard deviation of metrics\n",
    "avg_rmse = np.mean(rmse_list)\n",
    "std_rmse = np.std(rmse_list)\n",
    "avg_percentage_rmse = np.mean(percentage_rmse_list)\n",
    "std_percentage_rmse = np.std(percentage_rmse_list)\n",
    "avg_r_squared = np.mean(r_squared_list)\n",
    "std_r_squared = np.std(r_squared_list)\n",
    "\n",
    "# Print results\n",
    "print(f\"Average RMSE_Tab: {avg_rmse}, Standard Deviation RMSE_mixed: {std_rmse}\")\n",
    "print(f\"Average Percentage RMSE_Tab: {avg_percentage_rmse}%, Standard Deviation Percentage RMSE_mixed: {std_percentage_rmse}%\")\n",
    "print(f\"Average R-squared_Tab: {avg_r_squared}, Standard Deviation R-squared_mixed: {std_r_squared}\")\n"
   ]
  },
  {
   "cell_type": "markdown",
   "id": "89a0672e-1c09-449f-bba0-1caa7da582b1",
   "metadata": {},
   "source": [
    "Weighted Predictions"
   ]
  },
  {
   "cell_type": "code",
   "execution_count": null,
   "id": "091b0678",
   "metadata": {
    "hidden": true
   },
   "outputs": [],
   "source": [
    "import numpy as np\n",
    "from sklearn.metrics import mean_squared_error, r2_score\n",
    "\n",
    "# Define empty lists to store metrics for each dataframe\n",
    "rmse_list = []\n",
    "percentage_rmse_list = []\n",
    "r_squared_list = []\n",
    "\n",
    "# Loop through each dataframe\n",
    "for df in scaled_dfs:\n",
    "    # Calculate RMSE\n",
    "    rmse = np.sqrt(mean_squared_error(df['target_yield'], df['Final_Scaled_Predictions']))\n",
    "    # Calculate Percentage RMSE\n",
    "    percentage_rmse = ((rmse / (df_ymax - df_ymin)) * 100)\n",
    "    # Calculate R-squared\n",
    "    r_squared = r2_score(df['target_yield'], df['Final_Scaled_Predictions'])\n",
    "    # Append metrics to lists\n",
    "    rmse_list.append(rmse)\n",
    "    percentage_rmse_list.append(percentage_rmse)\n",
    "    r_squared_list.append(r_squared)\n",
    "\n",
    "# Calculate average and standard deviation of metrics\n",
    "avg_rmse = np.mean(rmse_list)\n",
    "std_rmse = np.std(rmse_list)\n",
    "avg_percentage_rmse = np.mean(percentage_rmse_list)\n",
    "std_percentage_rmse = np.std(percentage_rmse_list)\n",
    "avg_r_squared = np.mean(r_squared_list)\n",
    "std_r_squared = np.std(r_squared_list)\n",
    "\n",
    "# Print results\n",
    "print(f\"Average RMSE_Weighted: {avg_rmse}, Standard Deviation RMSE_mixed: {std_rmse}\")\n",
    "print(f\"Average Percentage RMSE_Weighted: {avg_percentage_rmse}%, Standard Deviation Percentage RMSE_mixed: {std_percentage_rmse}%\")\n",
    "print(f\"Average R-squared_Weighted: {avg_r_squared}, Standard Deviation R-squared_mixed: {std_r_squared}\")\n"
   ]
  },
  {
   "cell_type": "code",
   "execution_count": null,
   "id": "213f1c67",
   "metadata": {},
   "outputs": [],
   "source": []
  }
 ],
 "metadata": {
  "kernelspec": {
   "display_name": "Python 3 (ipykernel)",
   "language": "python",
   "name": "python3"
  },
  "language_info": {
   "codemirror_mode": {
    "name": "ipython",
    "version": 3
   },
   "file_extension": ".py",
   "mimetype": "text/x-python",
   "name": "python",
   "nbconvert_exporter": "python",
   "pygments_lexer": "ipython3",
   "version": "3.8.16"
  }
 },
 "nbformat": 4,
 "nbformat_minor": 5
}
