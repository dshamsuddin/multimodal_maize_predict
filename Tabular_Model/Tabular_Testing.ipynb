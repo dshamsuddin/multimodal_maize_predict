{
 "cells": [
  {
   "cell_type": "markdown",
   "id": "4ffcbccb",
   "metadata": {},
   "source": [
    "# Tabular Model Development"
   ]
  },
  {
   "cell_type": "markdown",
   "id": "3bfba2fc",
   "metadata": {
    "jp-MarkdownHeadingCollapsed": true
   },
   "source": [
    "## Tabular K-Fold Evaluation"
   ]
  },
  {
   "cell_type": "code",
   "execution_count": null,
   "id": "e512c97e-3d72-4c0c-9106-3343ab661f8e",
   "metadata": {},
   "outputs": [],
   "source": [
    "#!/usr/bin/env python\n",
    "# coding: utf-8\n",
    "\n",
    "# Import libraries\n",
    "from fastai.tabular.all import *\n",
    "\n",
    "import matplotlib.pyplot as plt\n",
    "import pandas as pd\n",
    "import numpy as np\n",
    "import os\n",
    "\n",
    "from sklearn.metrics import mean_squared_error, r2_score\n",
    "from sklearn.model_selection import StratifiedKFold\n",
    "\n",
    "if __name__ == \"__main__\":\n",
    "\t# DATASET\n",
    "\tdf_train_val = pd.read_csv('/path/Train_Val_AllMixed.csv')\n",
    "\n",
    "\t# Random splitter function from fastai\n",
    "\tsplitter = RandomSplitter(valid_pct=0.3, seed=42)\n",
    "\tsplits = splitter(range_of(df_train_val))\n",
    "\tsplits\n",
    "\n",
    "\tkfold_preds = pd.DataFrame(columns=['predictions', 'target_yield'])\n",
    "\n",
    "\tdef kfold_splitter(df, column='Year', splits=5, shuffle=True):\n",
    "\t    from sklearn.model_selection import StratifiedKFold\n",
    "\t    kfold = StratifiedKFold(n_splits=splits, shuffle=shuffle)\n",
    "\t    train_idx = []\n",
    "\t    val_idx = []\n",
    "\n",
    "\t    for train_index, val_index in kfold.split(df.index, df[column]):\n",
    "\t        train_idx.append(L(train_index, use_list=True))\n",
    "\t        val_idx.append(L(val_index, use_list=True))\n",
    "    \n",
    "\t    return train_idx, val_idx\n",
    "\n",
    "\tprocs = [Categorify, Normalize, FillMissing]\n",
    "\tcont_vars = df_train_val.columns[21:].tolist()\n",
    "\tadditional_cont_vars = ['JulianPlantDatePerYear', 'Year', 'DTA', 'DTS', 'Moist', 'Population', 'Range', 'Row']\n",
    "\tcont_names =  cont_vars + additional_cont_vars \n",
    "\tcat_names = ['Pedigree1', 'Pedigree2', 'Stock', 'Test']\n",
    "\n",
    "\tval_loss = []\n",
    "\trmse_kfold = []\n",
    "\trmse_pct_kfold =[]\n",
    "\tr2_kfold=[]\n",
    "\n",
    "\n",
    "\t#Callbacks \n",
    "\tearly_stopping = EarlyStoppingCallback(monitor='valid_loss', patience=20, min_delta=0.01)\n",
    "\tcsvlogger = CSVLogger(f'/path/Metrics_kfold.csv', append=True)\n",
    "\n",
    "\ttrain_index, val_index = kfold_splitter(df_train_val)\n",
    "\n",
    "\tfor i in range(5):\n",
    "\t\tinit = TabularPandas(df_train_val,\n",
    "\t\t                   procs,\n",
    "\t\t                   cat_names=cat_names,\n",
    "\t\t                   cont_names=cont_names,\n",
    "\t\t                   y_names='Yield',\n",
    "\t\t                   y_block=RegressionBlock(),\n",
    "\t\t                   splits=(train_index[i], val_index[i]))\n",
    "\n",
    "\t\tdata_init = init.dataloaders(bs=64)\n",
    "\n",
    "\t\tconfig = tabular_config(ps=0.5, embed_p=0.5)\n",
    "\n",
    "\t\tlearn_tab = tabular_learner(data_init,\n",
    "\t\t                            config=config,\n",
    "\t\t                            layers=[200,100],\n",
    "\t\t                            metrics=[rmse, R2Score()],\n",
    "\t\t                            opt_func=ranger,\n",
    "\t\t                            y_range=[0,20],\n",
    "\t\t                            wd=1.425482107813348e-06)\n",
    "\n",
    "\t\tlearn_tab.fit_one_cycle(100, lr_max=0.00018479913871295546, cbs=[csvlogger, early_stopping])\n",
    "\n",
    "\n",
    "\t\tdf_ymin, df_ymax = df_train_val['Yield'].min(), df_train_val['Yield'].max()\n",
    "\t\tval_loss_k, rmse_k, r2score_k = learn_tab.validate()\n",
    "\t\tval_loss.append(val_loss_k)\n",
    "\t\trmse_kfold.append(rmse_k)\n",
    "\t\trmse_pct_kfold.append(((rmse_k/(df_ymax - df_ymin))*100))\n",
    "\t\tr2_kfold.append(r2score_k)\n",
    "\n",
    "\t\tpreds = pd.DataFrame()\n",
    "\n",
    "\t\t# Extract the predictions and save in vis_results\n",
    "\t\typred, yval = learn_tab.get_preds()\n",
    "\t\tpreds['predictions'] = ypred.flatten()\n",
    "\t\tpreds['target_yield'] = yval.numpy()  # Convert yval tensor to NumPy array\n",
    "\n",
    "\t\tkfold_preds = kfold_preds.append(preds)\n",
    "\n",
    "\n",
    "\t# Save predictions to a CSV file\n",
    "\tkfold_preds.to_csv('/path/Preds_kfold.csv', index=False)  # Set index=False to avoid saving row indices\n",
    "\n",
    "\n",
    "\t# Stratified kfold metrics per round\n",
    "\td ={\"validation loss\":val_loss, \"rmse\": rmse_kfold, \"rmse %\": rmse_pct_kfold, \"r2score\":r2_kfold}\n",
    "\n",
    "\tdnnkfold = pd.DataFrame(data=d)\n",
    "\tdnnkfold['rmse %'] = dnnkfold['rmse %'].apply(lambda x: np.mean(x))\n",
    "\tdnnkfold.to_csv('/path/Summary_Metrics_kfold.csv', index=False)\n",
    "\n"
   ]
  },
  {
   "cell_type": "markdown",
   "id": "45cb0b67-cd75-4488-b35e-33cde36b362e",
   "metadata": {},
   "source": [
    "## Tabular Final Model Development"
   ]
  },
  {
   "cell_type": "code",
   "execution_count": null,
   "id": "3d1ec77d",
   "metadata": {},
   "outputs": [],
   "source": [
    "# Import libraries\n",
    "from fastai.tabular.all import *\n",
    "\n",
    "import matplotlib.pyplot as plt\n",
    "import pandas as pd\n",
    "import numpy as np\n",
    "import os\n",
    "\n",
    "from sklearn.metrics import mean_squared_error, r2_score\n",
    "from sklearn.model_selection import StratifiedKFold"
   ]
  },
  {
   "cell_type": "code",
   "execution_count": null,
   "id": "b254684f",
   "metadata": {},
   "outputs": [],
   "source": [
    "# Load the train/val datasets for DNN\n",
    "df_train_val = pd.read_csv('/path/Train_Val.csv')\n"
   ]
  },
  {
   "cell_type": "code",
   "execution_count": null,
   "id": "82a39736",
   "metadata": {},
   "outputs": [],
   "source": [
    "# Random splitter function from fastai\n",
    "splitter = RandomSplitter(valid_pct=0.3, seed=42)\n",
    "splits = splitter(range_of(df_train_val))\n",
    "splits"
   ]
  },
  {
   "cell_type": "code",
   "execution_count": null,
   "id": "b2cce687",
   "metadata": {},
   "outputs": [],
   "source": [
    "procs = [Categorify, Normalize, FillMissing]\n",
    "cont_vars = df_train_val.columns[21:].tolist()\n",
    "\n",
    "additional_cont_vars = ['JulianPlantDatePerYear', 'Year', 'DTA', 'DTS', 'Moist', 'Population', 'Range', 'Row']\n",
    "cont_names =  cont_vars + additional_cont_vars \n",
    "cat_names = ['Pedigree1', 'Pedigree2', 'Stock', 'Test']\n",
    "\n",
    "init = TabularPandas(df_train_val,\n",
    "                   procs,\n",
    "                   cat_names=cat_names,\n",
    "                   cont_names=cont_names,\n",
    "                   y_names='Yield',\n",
    "                   y_block=RegressionBlock(),\n",
    "                   splits=splits)\n",
    "\n",
    "data_init = init.dataloaders(bs=64)\n",
    "\n"
   ]
  },
  {
   "cell_type": "code",
   "execution_count": null,
   "id": "f2b8e464",
   "metadata": {},
   "outputs": [],
   "source": [
    "#Callbacks \n",
    "#early_stopping = EarlyStoppingCallback(monitor='valid_loss', patience=3, min_delta=0.01) #Uncomment if you want to implement early stopping.\n",
    "csvlogger = CSVLogger(f'/path/Metrics.csv', append=True)\n",
    "save_callback = SaveModelCallback(monitor='valid_loss', fname='Tabular_Model', reset_on_fit=False, at_end=True)\n"
   ]
  },
  {
   "cell_type": "code",
   "execution_count": null,
   "id": "3706a76d",
   "metadata": {},
   "outputs": [],
   "source": [
    "config = tabular_config(ps=0.5, embed_p=0.5)"
   ]
  },
  {
   "cell_type": "code",
   "execution_count": null,
   "id": "05307efa",
   "metadata": {},
   "outputs": [],
   "source": [
    "learn_tab = tabular_learner(data_init,\n",
    "                            config=config,\n",
    "                            layers=[200,100],\n",
    "                            metrics=[rmse, R2Score()],\n",
    "                            opt_func=ranger,\n",
    "                            y_range=[0,20],\n",
    "                            wd=1.425482107813348e-06)"
   ]
  },
  {
   "cell_type": "code",
   "execution_count": null,
   "id": "dc7ca2ce",
   "metadata": {},
   "outputs": [],
   "source": [
    "learn_tab.fit_one_cycle(100, lr_max=0.00018479913871295546), cbs=[csvlogger, save_callback])"
   ]
  },
  {
   "cell_type": "code",
   "execution_count": null,
   "id": "8eec0234",
   "metadata": {},
   "outputs": [],
   "source": [
    "# Show results for some samples in the validation set\n",
    "learn_tab.show_results(ds_idx=1, shuffle=False, max_n=10)"
   ]
  },
  {
   "cell_type": "code",
   "execution_count": null,
   "id": "59ea835b",
   "metadata": {},
   "outputs": [],
   "source": [
    "preds = pd.DataFrame(columns=['predictions', 'target_yield'])\n",
    "\n",
    "# Extract the predictions and save in vis_results\n",
    "ypred, yval = learn_tab.get_preds()\n",
    "preds['predictions'] = ypred.flatten()\n",
    "preds['target_yield'] = yval.numpy()  # Convert yval tensor to NumPy array\n"
   ]
  },
  {
   "cell_type": "code",
   "execution_count": null,
   "id": "3872f0b5",
   "metadata": {},
   "outputs": [],
   "source": [
    "# Save predictions to a CSV file\n",
    "preds.to_csv('/path/Preds.csv', index=False)  # Set index=False to avoid saving row indices\n"
   ]
  },
  {
   "cell_type": "markdown",
   "id": "90103ff1",
   "metadata": {
    "jp-MarkdownHeadingCollapsed": true
   },
   "source": [
    "## Holdout Evaluation"
   ]
  },
  {
   "cell_type": "code",
   "execution_count": null,
   "id": "c2db9771",
   "metadata": {},
   "outputs": [],
   "source": [
    "learn_tab.load('/path/Tabular_Model') #Using saved model from SaveModelCallback function."
   ]
  },
  {
   "cell_type": "code",
   "execution_count": null,
   "id": "62567089",
   "metadata": {},
   "outputs": [],
   "source": [
    "df_test = pd.read_csv('/path/Holdout.csv')"
   ]
  },
  {
   "cell_type": "code",
   "execution_count": null,
   "id": "955a6ea2",
   "metadata": {},
   "outputs": [],
   "source": [
    "# predict the grain yield in the holdout dataset\n",
    "dl = learn_tab.dls.test_dl(df_test)\n",
    "test_preds = learn_tab.get_preds(dl=dl, reorder=False)\n"
   ]
  },
  {
   "cell_type": "code",
   "execution_count": null,
   "id": "902124a8",
   "metadata": {},
   "outputs": [],
   "source": [
    "df_test2019 = pd.DataFrame()\n",
    "df_test2019['ID_Predictions'] = df_test['Barcode']\n",
    "df_test2019['Target_yield'] = test_preds[1].flatten()\n",
    "df_test2019['Predictions'] = test_preds[0].flatten()\n"
   ]
  },
  {
   "cell_type": "code",
   "execution_count": null,
   "id": "773cc1d0",
   "metadata": {},
   "outputs": [],
   "source": [
    "df_test2019.to_csv('/path/predictions.csv')"
   ]
  },
  {
   "cell_type": "markdown",
   "id": "42abd2ce",
   "metadata": {},
   "source": [
    "Feature Importance"
   ]
  },
  {
   "cell_type": "code",
   "execution_count": null,
   "id": "55726f1d",
   "metadata": {},
   "outputs": [],
   "source": [
    "from fastinference.tabular import *"
   ]
  },
  {
   "cell_type": "code",
   "execution_count": null,
   "id": "cd2e99dd",
   "metadata": {},
   "outputs": [],
   "source": [
    "exp = ShapInterpretation(learn_tab, df_test)\n"
   ]
  },
  {
   "cell_type": "code",
   "execution_count": null,
   "id": "72c783a4",
   "metadata": {},
   "outputs": [],
   "source": [
    "exp1 = ShapInterpretation(learn_tab)\n"
   ]
  },
  {
   "cell_type": "code",
   "execution_count": null,
   "id": "5d091cb6",
   "metadata": {},
   "outputs": [],
   "source": [
    "exp.summary_plot(plot_type='bar', max_display=10) #Run if want to see the top ten features.\n",
    " "
   ]
  },
  {
   "cell_type": "code",
   "execution_count": null,
   "id": "bb5c4137",
   "metadata": {},
   "outputs": [],
   "source": [
    "exp1.summary_plot(plot_type='bar', max_display=20) #Run if want to see the top 20 features.\n"
   ]
  }
 ],
 "metadata": {
  "kernelspec": {
   "display_name": "Python 3 (ipykernel)",
   "language": "python",
   "name": "python3"
  },
  "language_info": {
   "codemirror_mode": {
    "name": "ipython",
    "version": 3
   },
   "file_extension": ".py",
   "mimetype": "text/x-python",
   "name": "python",
   "nbconvert_exporter": "python",
   "pygments_lexer": "ipython3",
   "version": "3.8.16"
  },
  "toc": {
   "base_numbering": 1,
   "nav_menu": {},
   "number_sections": true,
   "sideBar": true,
   "skip_h1_title": false,
   "title_cell": "Table of Contents",
   "title_sidebar": "Contents",
   "toc_cell": false,
   "toc_position": {
    "height": "calc(100% - 180px)",
    "left": "10px",
    "top": "150px",
    "width": "244px"
   },
   "toc_section_display": true,
   "toc_window_display": false
  }
 },
 "nbformat": 4,
 "nbformat_minor": 5
}
